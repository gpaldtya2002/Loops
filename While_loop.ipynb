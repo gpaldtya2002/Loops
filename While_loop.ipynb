{
  "nbformat": 4,
  "nbformat_minor": 0,
  "metadata": {
    "colab": {
      "provenance": [],
      "authorship_tag": "ABX9TyOV+7aRzusOFaVjBHREn82l",
      "include_colab_link": true
    },
    "kernelspec": {
      "name": "python3",
      "display_name": "Python 3"
    },
    "language_info": {
      "name": "python"
    }
  },
  "cells": [
    {
      "cell_type": "markdown",
      "metadata": {
        "id": "view-in-github",
        "colab_type": "text"
      },
      "source": [
        "<a href=\"https://colab.research.google.com/github/gpaldtya2002/Loops/blob/main/While_loop.ipynb\" target=\"_parent\"><img src=\"https://colab.research.google.com/assets/colab-badge.svg\" alt=\"Open In Colab\"/></a>"
      ]
    },
    {
      "cell_type": "code",
      "execution_count": 8,
      "metadata": {
        "colab": {
          "base_uri": "https://localhost:8080/"
        },
        "id": "RF6ANwByLfL2",
        "outputId": "13a97a52-c23e-442b-e7ad-2ccaf47a016d"
      },
      "outputs": [
        {
          "output_type": "stream",
          "name": "stdout",
          "text": [
            "I will learn Python.\n",
            "I will learn Python.\n",
            "I will learn Python.\n",
            "I will learn Python.\n",
            "I will learn Python.\n",
            "I will learn Python.\n",
            "I will learn Python.\n",
            "I will learn Python.\n",
            "I will learn Python.\n",
            "I will learn Python.\n",
            "I will learn Python.\n",
            "I will learn Python.\n",
            "I will learn Python.\n",
            "I will learn Python.\n",
            "I will learn Python.\n",
            "I will learn Python.\n",
            "I will learn Python.\n",
            "I will learn Python.\n",
            "I will learn Python.\n",
            "I will learn Python.\n",
            "I will learn Python.\n",
            "I will learn Python.\n",
            "I will learn Python.\n",
            "I will learn Python.\n",
            "I will learn Python.\n",
            "I will learn Python.\n",
            "I will learn Python.\n",
            "I will learn Python.\n",
            "I will learn Python.\n",
            "I will learn Python.\n",
            "I will learn Python.\n",
            "I will learn Python.\n",
            "I will learn Python.\n",
            "I will learn Python.\n",
            "I will learn Python.\n",
            "I will learn Python.\n",
            "I will learn Python.\n",
            "I will learn Python.\n",
            "I will learn Python.\n",
            "I will learn Python.\n",
            "I will learn Python.\n",
            "I will learn Python.\n",
            "I will learn Python.\n",
            "I will learn Python.\n",
            "I will learn Python.\n",
            "I will learn Python.\n",
            "I will learn Python.\n",
            "I will learn Python.\n",
            "I will learn Python.\n",
            "I will learn Python.\n",
            "I will learn Python.\n",
            "I will learn Python.\n",
            "I will learn Python.\n",
            "I will learn Python.\n",
            "I will learn Python.\n",
            "I will learn Python.\n",
            "I will learn Python.\n",
            "I will learn Python.\n",
            "I will learn Python.\n",
            "I will learn Python.\n",
            "I will learn Python.\n",
            "I will learn Python.\n",
            "I will learn Python.\n",
            "I will learn Python.\n",
            "I will learn Python.\n",
            "I will learn Python.\n",
            "I will learn Python.\n",
            "I will learn Python.\n",
            "I will learn Python.\n",
            "I will learn Python.\n",
            "I will learn Python.\n",
            "I will learn Python.\n",
            "I will learn Python.\n",
            "I will learn Python.\n",
            "I will learn Python.\n",
            "I will learn Python.\n",
            "I will learn Python.\n",
            "I will learn Python.\n",
            "I will learn Python.\n",
            "I will learn Python.\n",
            "I will learn Python.\n",
            "I will learn Python.\n",
            "I will learn Python.\n",
            "I will learn Python.\n",
            "I will learn Python.\n",
            "I will learn Python.\n",
            "I will learn Python.\n",
            "I will learn Python.\n",
            "I will learn Python.\n",
            "I will learn Python.\n",
            "I will learn Python.\n",
            "I will learn Python.\n",
            "I will learn Python.\n",
            "I will learn Python.\n",
            "I will learn Python.\n",
            "I will learn Python.\n",
            "I will learn Python.\n",
            "I will learn Python.\n",
            "I will learn Python.\n",
            "I will learn Python.\n",
            "100\n"
          ]
        }
      ],
      "source": [
        "count=0\n",
        "i=0                 # declare initial value for iterating variable\n",
        "while i<100:       # specify range\n",

        "  print(\"I will learn Python.\")\n",
        "  i+=1\n",
        "  count+=1\n",
        "print(count)"
      ]
    }
  ]
}
